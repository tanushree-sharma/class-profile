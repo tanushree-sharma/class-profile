{
 "metadata": {
  "language_info": {
   "codemirror_mode": {
    "name": "ipython",
    "version": 3
   },
   "file_extension": ".py",
   "mimetype": "text/x-python",
   "name": "python",
   "nbconvert_exporter": "python",
   "pygments_lexer": "ipython3",
   "version": "3.7.4"
  },
  "orig_nbformat": 2,
  "kernelspec": {
   "name": "python374jvsc74a57bd0aee8b7b246df8f9039afb4144a1f6fd8d2ca17a180786b69acc140d282b71a49",
   "display_name": "Python 3.7.4 64-bit"
  }
 },
 "nbformat": 4,
 "nbformat_minor": 2,
 "cells": [
  {
   "cell_type": "code",
   "execution_count": 117,
   "metadata": {},
   "outputs": [
    {
     "output_type": "stream",
     "name": "stdout",
     "text": [
      "Collecting wordcloud\n",
      "Requirement already satisfied: pillow in /Library/Frameworks/Python.framework/Versions/3.7/lib/python3.7/site-packages (from wordcloud) (8.2.0)\n",
      "Requirement already satisfied: matplotlib in /Library/Frameworks/Python.framework/Versions/3.7/lib/python3.7/site-packages (from wordcloud) (3.1.1)\n",
      "Requirement already satisfied: numpy>=1.6.1 in /Library/Frameworks/Python.framework/Versions/3.7/lib/python3.7/site-packages (from wordcloud) (1.17.2)\n",
      "Requirement already satisfied: cycler>=0.10 in /Library/Frameworks/Python.framework/Versions/3.7/lib/python3.7/site-packages (from matplotlib->wordcloud) (0.10.0)\n",
      "Requirement already satisfied: pyparsing!=2.0.4,!=2.1.2,!=2.1.6,>=2.0.1 in /Library/Frameworks/Python.framework/Versions/3.7/lib/python3.7/site-packages (from matplotlib->wordcloud) (2.4.2)\n",
      "Requirement already satisfied: kiwisolver>=1.0.1 in /Library/Frameworks/Python.framework/Versions/3.7/lib/python3.7/site-packages (from matplotlib->wordcloud) (1.1.0)\n",
      "Requirement already satisfied: python-dateutil>=2.1 in /Library/Frameworks/Python.framework/Versions/3.7/lib/python3.7/site-packages (from matplotlib->wordcloud) (2.8.0)\n",
      "Requirement already satisfied: six in /Library/Frameworks/Python.framework/Versions/3.7/lib/python3.7/site-packages (from cycler>=0.10->matplotlib->wordcloud) (1.15.0)\n",
      "Requirement already satisfied: setuptools in /Library/Frameworks/Python.framework/Versions/3.7/lib/python3.7/site-packages (from kiwisolver>=1.0.1->matplotlib->wordcloud) (40.8.0)\n",
      "Installing collected packages: wordcloud\n",
      "Successfully installed wordcloud-1.8.1\n",
      "\u001b[33mYou are using pip version 19.0.3, however version 21.1.2 is available.\n",
      "You should consider upgrading via the 'pip install --upgrade pip' command.\u001b[0m\n"
     ]
    }
   ],
   "source": [
    "! pip3 install wordcloud"
   ]
  },
  {
   "cell_type": "code",
   "execution_count": 119,
   "metadata": {},
   "outputs": [
    {
     "output_type": "display_data",
     "data": {
      "text/html": "        <script type=\"text/javascript\">\n        window.PlotlyConfig = {MathJaxConfig: 'local'};\n        if (window.MathJax) {MathJax.Hub.Config({SVG: {font: \"STIX-Web\"}});}\n        if (typeof require !== 'undefined') {\n        require.undef(\"plotly\");\n        requirejs.config({\n            paths: {\n                'plotly': ['https://cdn.plot.ly/plotly-latest.min']\n            }\n        });\n        require(['plotly'], function(Plotly) {\n            window._Plotly = Plotly;\n        });\n        }\n        </script>\n        "
     },
     "metadata": {}
    }
   ],
   "source": [
    "import plotly.graph_objs as go\n",
    "import plotly\n",
    "import plotly.express as px\n",
    "import pandas as pd\n",
    "import numpy as np\n",
    "import random\n",
    "import matplotlib.pyplot as plt\n",
    "import collections\n",
    "import seaborn as sns\n",
    "from wordcloud import WordCloud\n",
    "from plotly.offline import iplot, init_notebook_mode\n",
    "init_notebook_mode(connected = True)\n",
    "\n",
    "dataframe = pd.read_csv(\"data.csv\")\n",
    "\n",
    "complementary_colors = [\"#694489\", \"#604e70\", \"#894487\", \"#474489\", \"#855aaa\", \"#c792ea\", \"#614bcc\"]\n"
   ]
  },
  {
   "cell_type": "code",
   "execution_count": 97,
   "metadata": {},
   "outputs": [
    {
     "output_type": "display_data",
     "data": {
      "application/vnd.plotly.v1+json": {
       "config": {
        "plotlyServerURL": "https://plot.ly"
       },
       "data": [
        {
         "hoverinfo": "x+y",
         "line": {
          "color": "rgb(131, 90, 241)",
          "width": 0.5
         },
         "mode": "lines",
         "stackgroup": "one",
         "type": "scatter",
         "x": [
          "Winter",
          "Spring",
          "Summer",
          "Fall"
         ],
         "y": [
          40,
          60,
          40,
          10
         ]
        },
        {
         "hoverinfo": "x+y",
         "line": {
          "color": "rgb(111, 231, 219)",
          "width": 0.5
         },
         "mode": "lines",
         "stackgroup": "one",
         "type": "scatter",
         "x": [
          "Winter",
          "Spring",
          "Summer",
          "Fall"
         ],
         "y": [
          20,
          10,
          10,
          60
         ]
        },
        {
         "hoverinfo": "x+y",
         "line": {
          "color": "rgb(184, 247, 212)",
          "width": 0.5
         },
         "mode": "lines",
         "stackgroup": "one",
         "type": "scatter",
         "x": [
          "Winter",
          "Spring",
          "Summer",
          "Fall"
         ],
         "y": [
          40,
          30,
          50,
          30
         ]
        }
       ],
       "layout": {
        "template": {
         "data": {
          "bar": [
           {
            "error_x": {
             "color": "#2a3f5f"
            },
            "error_y": {
             "color": "#2a3f5f"
            },
            "marker": {
             "line": {
              "color": "#E5ECF6",
              "width": 0.5
             }
            },
            "type": "bar"
           }
          ],
          "barpolar": [
           {
            "marker": {
             "line": {
              "color": "#E5ECF6",
              "width": 0.5
             }
            },
            "type": "barpolar"
           }
          ],
          "carpet": [
           {
            "aaxis": {
             "endlinecolor": "#2a3f5f",
             "gridcolor": "white",
             "linecolor": "white",
             "minorgridcolor": "white",
             "startlinecolor": "#2a3f5f"
            },
            "baxis": {
             "endlinecolor": "#2a3f5f",
             "gridcolor": "white",
             "linecolor": "white",
             "minorgridcolor": "white",
             "startlinecolor": "#2a3f5f"
            },
            "type": "carpet"
           }
          ],
          "choropleth": [
           {
            "colorbar": {
             "outlinewidth": 0,
             "ticks": ""
            },
            "type": "choropleth"
           }
          ],
          "contour": [
           {
            "colorbar": {
             "outlinewidth": 0,
             "ticks": ""
            },
            "colorscale": [
             [
              0,
              "#0d0887"
             ],
             [
              0.1111111111111111,
              "#46039f"
             ],
             [
              0.2222222222222222,
              "#7201a8"
             ],
             [
              0.3333333333333333,
              "#9c179e"
             ],
             [
              0.4444444444444444,
              "#bd3786"
             ],
             [
              0.5555555555555556,
              "#d8576b"
             ],
             [
              0.6666666666666666,
              "#ed7953"
             ],
             [
              0.7777777777777778,
              "#fb9f3a"
             ],
             [
              0.8888888888888888,
              "#fdca26"
             ],
             [
              1,
              "#f0f921"
             ]
            ],
            "type": "contour"
           }
          ],
          "contourcarpet": [
           {
            "colorbar": {
             "outlinewidth": 0,
             "ticks": ""
            },
            "type": "contourcarpet"
           }
          ],
          "heatmap": [
           {
            "colorbar": {
             "outlinewidth": 0,
             "ticks": ""
            },
            "colorscale": [
             [
              0,
              "#0d0887"
             ],
             [
              0.1111111111111111,
              "#46039f"
             ],
             [
              0.2222222222222222,
              "#7201a8"
             ],
             [
              0.3333333333333333,
              "#9c179e"
             ],
             [
              0.4444444444444444,
              "#bd3786"
             ],
             [
              0.5555555555555556,
              "#d8576b"
             ],
             [
              0.6666666666666666,
              "#ed7953"
             ],
             [
              0.7777777777777778,
              "#fb9f3a"
             ],
             [
              0.8888888888888888,
              "#fdca26"
             ],
             [
              1,
              "#f0f921"
             ]
            ],
            "type": "heatmap"
           }
          ],
          "heatmapgl": [
           {
            "colorbar": {
             "outlinewidth": 0,
             "ticks": ""
            },
            "colorscale": [
             [
              0,
              "#0d0887"
             ],
             [
              0.1111111111111111,
              "#46039f"
             ],
             [
              0.2222222222222222,
              "#7201a8"
             ],
             [
              0.3333333333333333,
              "#9c179e"
             ],
             [
              0.4444444444444444,
              "#bd3786"
             ],
             [
              0.5555555555555556,
              "#d8576b"
             ],
             [
              0.6666666666666666,
              "#ed7953"
             ],
             [
              0.7777777777777778,
              "#fb9f3a"
             ],
             [
              0.8888888888888888,
              "#fdca26"
             ],
             [
              1,
              "#f0f921"
             ]
            ],
            "type": "heatmapgl"
           }
          ],
          "histogram": [
           {
            "marker": {
             "colorbar": {
              "outlinewidth": 0,
              "ticks": ""
             }
            },
            "type": "histogram"
           }
          ],
          "histogram2d": [
           {
            "colorbar": {
             "outlinewidth": 0,
             "ticks": ""
            },
            "colorscale": [
             [
              0,
              "#0d0887"
             ],
             [
              0.1111111111111111,
              "#46039f"
             ],
             [
              0.2222222222222222,
              "#7201a8"
             ],
             [
              0.3333333333333333,
              "#9c179e"
             ],
             [
              0.4444444444444444,
              "#bd3786"
             ],
             [
              0.5555555555555556,
              "#d8576b"
             ],
             [
              0.6666666666666666,
              "#ed7953"
             ],
             [
              0.7777777777777778,
              "#fb9f3a"
             ],
             [
              0.8888888888888888,
              "#fdca26"
             ],
             [
              1,
              "#f0f921"
             ]
            ],
            "type": "histogram2d"
           }
          ],
          "histogram2dcontour": [
           {
            "colorbar": {
             "outlinewidth": 0,
             "ticks": ""
            },
            "colorscale": [
             [
              0,
              "#0d0887"
             ],
             [
              0.1111111111111111,
              "#46039f"
             ],
             [
              0.2222222222222222,
              "#7201a8"
             ],
             [
              0.3333333333333333,
              "#9c179e"
             ],
             [
              0.4444444444444444,
              "#bd3786"
             ],
             [
              0.5555555555555556,
              "#d8576b"
             ],
             [
              0.6666666666666666,
              "#ed7953"
             ],
             [
              0.7777777777777778,
              "#fb9f3a"
             ],
             [
              0.8888888888888888,
              "#fdca26"
             ],
             [
              1,
              "#f0f921"
             ]
            ],
            "type": "histogram2dcontour"
           }
          ],
          "mesh3d": [
           {
            "colorbar": {
             "outlinewidth": 0,
             "ticks": ""
            },
            "type": "mesh3d"
           }
          ],
          "parcoords": [
           {
            "line": {
             "colorbar": {
              "outlinewidth": 0,
              "ticks": ""
             }
            },
            "type": "parcoords"
           }
          ],
          "pie": [
           {
            "automargin": true,
            "type": "pie"
           }
          ],
          "scatter": [
           {
            "marker": {
             "colorbar": {
              "outlinewidth": 0,
              "ticks": ""
             }
            },
            "type": "scatter"
           }
          ],
          "scatter3d": [
           {
            "line": {
             "colorbar": {
              "outlinewidth": 0,
              "ticks": ""
             }
            },
            "marker": {
             "colorbar": {
              "outlinewidth": 0,
              "ticks": ""
             }
            },
            "type": "scatter3d"
           }
          ],
          "scattercarpet": [
           {
            "marker": {
             "colorbar": {
              "outlinewidth": 0,
              "ticks": ""
             }
            },
            "type": "scattercarpet"
           }
          ],
          "scattergeo": [
           {
            "marker": {
             "colorbar": {
              "outlinewidth": 0,
              "ticks": ""
             }
            },
            "type": "scattergeo"
           }
          ],
          "scattergl": [
           {
            "marker": {
             "colorbar": {
              "outlinewidth": 0,
              "ticks": ""
             }
            },
            "type": "scattergl"
           }
          ],
          "scattermapbox": [
           {
            "marker": {
             "colorbar": {
              "outlinewidth": 0,
              "ticks": ""
             }
            },
            "type": "scattermapbox"
           }
          ],
          "scatterpolar": [
           {
            "marker": {
             "colorbar": {
              "outlinewidth": 0,
              "ticks": ""
             }
            },
            "type": "scatterpolar"
           }
          ],
          "scatterpolargl": [
           {
            "marker": {
             "colorbar": {
              "outlinewidth": 0,
              "ticks": ""
             }
            },
            "type": "scatterpolargl"
           }
          ],
          "scatterternary": [
           {
            "marker": {
             "colorbar": {
              "outlinewidth": 0,
              "ticks": ""
             }
            },
            "type": "scatterternary"
           }
          ],
          "surface": [
           {
            "colorbar": {
             "outlinewidth": 0,
             "ticks": ""
            },
            "colorscale": [
             [
              0,
              "#0d0887"
             ],
             [
              0.1111111111111111,
              "#46039f"
             ],
             [
              0.2222222222222222,
              "#7201a8"
             ],
             [
              0.3333333333333333,
              "#9c179e"
             ],
             [
              0.4444444444444444,
              "#bd3786"
             ],
             [
              0.5555555555555556,
              "#d8576b"
             ],
             [
              0.6666666666666666,
              "#ed7953"
             ],
             [
              0.7777777777777778,
              "#fb9f3a"
             ],
             [
              0.8888888888888888,
              "#fdca26"
             ],
             [
              1,
              "#f0f921"
             ]
            ],
            "type": "surface"
           }
          ],
          "table": [
           {
            "cells": {
             "fill": {
              "color": "#EBF0F8"
             },
             "line": {
              "color": "white"
             }
            },
            "header": {
             "fill": {
              "color": "#C8D4E3"
             },
             "line": {
              "color": "white"
             }
            },
            "type": "table"
           }
          ]
         },
         "layout": {
          "annotationdefaults": {
           "arrowcolor": "#2a3f5f",
           "arrowhead": 0,
           "arrowwidth": 1
          },
          "autotypenumbers": "strict",
          "coloraxis": {
           "colorbar": {
            "outlinewidth": 0,
            "ticks": ""
           }
          },
          "colorscale": {
           "diverging": [
            [
             0,
             "#8e0152"
            ],
            [
             0.1,
             "#c51b7d"
            ],
            [
             0.2,
             "#de77ae"
            ],
            [
             0.3,
             "#f1b6da"
            ],
            [
             0.4,
             "#fde0ef"
            ],
            [
             0.5,
             "#f7f7f7"
            ],
            [
             0.6,
             "#e6f5d0"
            ],
            [
             0.7,
             "#b8e186"
            ],
            [
             0.8,
             "#7fbc41"
            ],
            [
             0.9,
             "#4d9221"
            ],
            [
             1,
             "#276419"
            ]
           ],
           "sequential": [
            [
             0,
             "#0d0887"
            ],
            [
             0.1111111111111111,
             "#46039f"
            ],
            [
             0.2222222222222222,
             "#7201a8"
            ],
            [
             0.3333333333333333,
             "#9c179e"
            ],
            [
             0.4444444444444444,
             "#bd3786"
            ],
            [
             0.5555555555555556,
             "#d8576b"
            ],
            [
             0.6666666666666666,
             "#ed7953"
            ],
            [
             0.7777777777777778,
             "#fb9f3a"
            ],
            [
             0.8888888888888888,
             "#fdca26"
            ],
            [
             1,
             "#f0f921"
            ]
           ],
           "sequentialminus": [
            [
             0,
             "#0d0887"
            ],
            [
             0.1111111111111111,
             "#46039f"
            ],
            [
             0.2222222222222222,
             "#7201a8"
            ],
            [
             0.3333333333333333,
             "#9c179e"
            ],
            [
             0.4444444444444444,
             "#bd3786"
            ],
            [
             0.5555555555555556,
             "#d8576b"
            ],
            [
             0.6666666666666666,
             "#ed7953"
            ],
            [
             0.7777777777777778,
             "#fb9f3a"
            ],
            [
             0.8888888888888888,
             "#fdca26"
            ],
            [
             1,
             "#f0f921"
            ]
           ]
          },
          "colorway": [
           "#636efa",
           "#EF553B",
           "#00cc96",
           "#ab63fa",
           "#FFA15A",
           "#19d3f3",
           "#FF6692",
           "#B6E880",
           "#FF97FF",
           "#FECB52"
          ],
          "font": {
           "color": "#2a3f5f"
          },
          "geo": {
           "bgcolor": "white",
           "lakecolor": "white",
           "landcolor": "#E5ECF6",
           "showlakes": true,
           "showland": true,
           "subunitcolor": "white"
          },
          "hoverlabel": {
           "align": "left"
          },
          "hovermode": "closest",
          "mapbox": {
           "style": "light"
          },
          "paper_bgcolor": "white",
          "plot_bgcolor": "#E5ECF6",
          "polar": {
           "angularaxis": {
            "gridcolor": "white",
            "linecolor": "white",
            "ticks": ""
           },
           "bgcolor": "#E5ECF6",
           "radialaxis": {
            "gridcolor": "white",
            "linecolor": "white",
            "ticks": ""
           }
          },
          "scene": {
           "xaxis": {
            "backgroundcolor": "#E5ECF6",
            "gridcolor": "white",
            "gridwidth": 2,
            "linecolor": "white",
            "showbackground": true,
            "ticks": "",
            "zerolinecolor": "white"
           },
           "yaxis": {
            "backgroundcolor": "#E5ECF6",
            "gridcolor": "white",
            "gridwidth": 2,
            "linecolor": "white",
            "showbackground": true,
            "ticks": "",
            "zerolinecolor": "white"
           },
           "zaxis": {
            "backgroundcolor": "#E5ECF6",
            "gridcolor": "white",
            "gridwidth": 2,
            "linecolor": "white",
            "showbackground": true,
            "ticks": "",
            "zerolinecolor": "white"
           }
          },
          "shapedefaults": {
           "line": {
            "color": "#2a3f5f"
           }
          },
          "ternary": {
           "aaxis": {
            "gridcolor": "white",
            "linecolor": "white",
            "ticks": ""
           },
           "baxis": {
            "gridcolor": "white",
            "linecolor": "white",
            "ticks": ""
           },
           "bgcolor": "#E5ECF6",
           "caxis": {
            "gridcolor": "white",
            "linecolor": "white",
            "ticks": ""
           }
          },
          "title": {
           "x": 0.05
          },
          "xaxis": {
           "automargin": true,
           "gridcolor": "white",
           "linecolor": "white",
           "ticks": "",
           "title": {
            "standoff": 15
           },
           "zerolinecolor": "white",
           "zerolinewidth": 2
          },
          "yaxis": {
           "automargin": true,
           "gridcolor": "white",
           "linecolor": "white",
           "ticks": "",
           "title": {
            "standoff": 15
           },
           "zerolinecolor": "white",
           "zerolinewidth": 2
          }
         }
        },
        "yaxis": {
         "range": [
          0,
          100
         ]
        }
       }
      },
      "text/html": "<div>                            <div id=\"cd116702-214b-4eb7-81a0-660a9bd98dc9\" class=\"plotly-graph-div\" style=\"height:525px; width:100%;\"></div>            <script type=\"text/javascript\">                require([\"plotly\"], function(Plotly) {                    window.PLOTLYENV=window.PLOTLYENV || {};                                    if (document.getElementById(\"cd116702-214b-4eb7-81a0-660a9bd98dc9\")) {                    Plotly.newPlot(                        \"cd116702-214b-4eb7-81a0-660a9bd98dc9\",                        [{\"hoverinfo\": \"x+y\", \"line\": {\"color\": \"rgb(131, 90, 241)\", \"width\": 0.5}, \"mode\": \"lines\", \"stackgroup\": \"one\", \"type\": \"scatter\", \"x\": [\"Winter\", \"Spring\", \"Summer\", \"Fall\"], \"y\": [40, 60, 40, 10]}, {\"hoverinfo\": \"x+y\", \"line\": {\"color\": \"rgb(111, 231, 219)\", \"width\": 0.5}, \"mode\": \"lines\", \"stackgroup\": \"one\", \"type\": \"scatter\", \"x\": [\"Winter\", \"Spring\", \"Summer\", \"Fall\"], \"y\": [20, 10, 10, 60]}, {\"hoverinfo\": \"x+y\", \"line\": {\"color\": \"rgb(184, 247, 212)\", \"width\": 0.5}, \"mode\": \"lines\", \"stackgroup\": \"one\", \"type\": \"scatter\", \"x\": [\"Winter\", \"Spring\", \"Summer\", \"Fall\"], \"y\": [40, 30, 50, 30]}],                        {\"template\": {\"data\": {\"bar\": [{\"error_x\": {\"color\": \"#2a3f5f\"}, \"error_y\": {\"color\": \"#2a3f5f\"}, \"marker\": {\"line\": {\"color\": \"#E5ECF6\", \"width\": 0.5}}, \"type\": \"bar\"}], \"barpolar\": [{\"marker\": {\"line\": {\"color\": \"#E5ECF6\", \"width\": 0.5}}, \"type\": \"barpolar\"}], \"carpet\": [{\"aaxis\": {\"endlinecolor\": \"#2a3f5f\", \"gridcolor\": \"white\", \"linecolor\": \"white\", \"minorgridcolor\": \"white\", \"startlinecolor\": \"#2a3f5f\"}, \"baxis\": {\"endlinecolor\": \"#2a3f5f\", \"gridcolor\": \"white\", \"linecolor\": \"white\", \"minorgridcolor\": \"white\", \"startlinecolor\": \"#2a3f5f\"}, \"type\": \"carpet\"}], \"choropleth\": [{\"colorbar\": {\"outlinewidth\": 0, \"ticks\": \"\"}, \"type\": \"choropleth\"}], \"contour\": [{\"colorbar\": {\"outlinewidth\": 0, \"ticks\": \"\"}, \"colorscale\": [[0.0, \"#0d0887\"], [0.1111111111111111, \"#46039f\"], [0.2222222222222222, \"#7201a8\"], [0.3333333333333333, \"#9c179e\"], [0.4444444444444444, \"#bd3786\"], [0.5555555555555556, \"#d8576b\"], [0.6666666666666666, \"#ed7953\"], [0.7777777777777778, \"#fb9f3a\"], [0.8888888888888888, \"#fdca26\"], [1.0, \"#f0f921\"]], \"type\": \"contour\"}], \"contourcarpet\": [{\"colorbar\": {\"outlinewidth\": 0, \"ticks\": \"\"}, \"type\": \"contourcarpet\"}], \"heatmap\": [{\"colorbar\": {\"outlinewidth\": 0, \"ticks\": \"\"}, \"colorscale\": [[0.0, \"#0d0887\"], [0.1111111111111111, \"#46039f\"], [0.2222222222222222, \"#7201a8\"], [0.3333333333333333, \"#9c179e\"], [0.4444444444444444, \"#bd3786\"], [0.5555555555555556, \"#d8576b\"], [0.6666666666666666, \"#ed7953\"], [0.7777777777777778, \"#fb9f3a\"], [0.8888888888888888, \"#fdca26\"], [1.0, \"#f0f921\"]], \"type\": \"heatmap\"}], \"heatmapgl\": [{\"colorbar\": {\"outlinewidth\": 0, \"ticks\": \"\"}, \"colorscale\": [[0.0, \"#0d0887\"], [0.1111111111111111, \"#46039f\"], [0.2222222222222222, \"#7201a8\"], [0.3333333333333333, \"#9c179e\"], [0.4444444444444444, \"#bd3786\"], [0.5555555555555556, \"#d8576b\"], [0.6666666666666666, \"#ed7953\"], [0.7777777777777778, \"#fb9f3a\"], [0.8888888888888888, \"#fdca26\"], [1.0, \"#f0f921\"]], \"type\": \"heatmapgl\"}], \"histogram\": [{\"marker\": {\"colorbar\": {\"outlinewidth\": 0, \"ticks\": \"\"}}, \"type\": \"histogram\"}], \"histogram2d\": [{\"colorbar\": {\"outlinewidth\": 0, \"ticks\": \"\"}, \"colorscale\": [[0.0, \"#0d0887\"], [0.1111111111111111, \"#46039f\"], [0.2222222222222222, \"#7201a8\"], [0.3333333333333333, \"#9c179e\"], [0.4444444444444444, \"#bd3786\"], [0.5555555555555556, \"#d8576b\"], [0.6666666666666666, \"#ed7953\"], [0.7777777777777778, \"#fb9f3a\"], [0.8888888888888888, \"#fdca26\"], [1.0, \"#f0f921\"]], \"type\": \"histogram2d\"}], \"histogram2dcontour\": [{\"colorbar\": {\"outlinewidth\": 0, \"ticks\": \"\"}, \"colorscale\": [[0.0, \"#0d0887\"], [0.1111111111111111, \"#46039f\"], [0.2222222222222222, \"#7201a8\"], [0.3333333333333333, \"#9c179e\"], [0.4444444444444444, \"#bd3786\"], [0.5555555555555556, \"#d8576b\"], [0.6666666666666666, \"#ed7953\"], [0.7777777777777778, \"#fb9f3a\"], [0.8888888888888888, \"#fdca26\"], [1.0, \"#f0f921\"]], \"type\": \"histogram2dcontour\"}], \"mesh3d\": [{\"colorbar\": {\"outlinewidth\": 0, \"ticks\": \"\"}, \"type\": \"mesh3d\"}], \"parcoords\": [{\"line\": {\"colorbar\": {\"outlinewidth\": 0, \"ticks\": \"\"}}, \"type\": \"parcoords\"}], \"pie\": [{\"automargin\": true, \"type\": \"pie\"}], \"scatter\": [{\"marker\": {\"colorbar\": {\"outlinewidth\": 0, \"ticks\": \"\"}}, \"type\": \"scatter\"}], \"scatter3d\": [{\"line\": {\"colorbar\": {\"outlinewidth\": 0, \"ticks\": \"\"}}, \"marker\": {\"colorbar\": {\"outlinewidth\": 0, \"ticks\": \"\"}}, \"type\": \"scatter3d\"}], \"scattercarpet\": [{\"marker\": {\"colorbar\": {\"outlinewidth\": 0, \"ticks\": \"\"}}, \"type\": \"scattercarpet\"}], \"scattergeo\": [{\"marker\": {\"colorbar\": {\"outlinewidth\": 0, \"ticks\": \"\"}}, \"type\": \"scattergeo\"}], \"scattergl\": [{\"marker\": {\"colorbar\": {\"outlinewidth\": 0, \"ticks\": \"\"}}, \"type\": \"scattergl\"}], \"scattermapbox\": [{\"marker\": {\"colorbar\": {\"outlinewidth\": 0, \"ticks\": \"\"}}, \"type\": \"scattermapbox\"}], \"scatterpolar\": [{\"marker\": {\"colorbar\": {\"outlinewidth\": 0, \"ticks\": \"\"}}, \"type\": \"scatterpolar\"}], \"scatterpolargl\": [{\"marker\": {\"colorbar\": {\"outlinewidth\": 0, \"ticks\": \"\"}}, \"type\": \"scatterpolargl\"}], \"scatterternary\": [{\"marker\": {\"colorbar\": {\"outlinewidth\": 0, \"ticks\": \"\"}}, \"type\": \"scatterternary\"}], \"surface\": [{\"colorbar\": {\"outlinewidth\": 0, \"ticks\": \"\"}, \"colorscale\": [[0.0, \"#0d0887\"], [0.1111111111111111, \"#46039f\"], [0.2222222222222222, \"#7201a8\"], [0.3333333333333333, \"#9c179e\"], [0.4444444444444444, \"#bd3786\"], [0.5555555555555556, \"#d8576b\"], [0.6666666666666666, \"#ed7953\"], [0.7777777777777778, \"#fb9f3a\"], [0.8888888888888888, \"#fdca26\"], [1.0, \"#f0f921\"]], \"type\": \"surface\"}], \"table\": [{\"cells\": {\"fill\": {\"color\": \"#EBF0F8\"}, \"line\": {\"color\": \"white\"}}, \"header\": {\"fill\": {\"color\": \"#C8D4E3\"}, \"line\": {\"color\": \"white\"}}, \"type\": \"table\"}]}, \"layout\": {\"annotationdefaults\": {\"arrowcolor\": \"#2a3f5f\", \"arrowhead\": 0, \"arrowwidth\": 1}, \"autotypenumbers\": \"strict\", \"coloraxis\": {\"colorbar\": {\"outlinewidth\": 0, \"ticks\": \"\"}}, \"colorscale\": {\"diverging\": [[0, \"#8e0152\"], [0.1, \"#c51b7d\"], [0.2, \"#de77ae\"], [0.3, \"#f1b6da\"], [0.4, \"#fde0ef\"], [0.5, \"#f7f7f7\"], [0.6, \"#e6f5d0\"], [0.7, \"#b8e186\"], [0.8, \"#7fbc41\"], [0.9, \"#4d9221\"], [1, \"#276419\"]], \"sequential\": [[0.0, \"#0d0887\"], [0.1111111111111111, \"#46039f\"], [0.2222222222222222, \"#7201a8\"], [0.3333333333333333, \"#9c179e\"], [0.4444444444444444, \"#bd3786\"], [0.5555555555555556, \"#d8576b\"], [0.6666666666666666, \"#ed7953\"], [0.7777777777777778, \"#fb9f3a\"], [0.8888888888888888, \"#fdca26\"], [1.0, \"#f0f921\"]], \"sequentialminus\": [[0.0, \"#0d0887\"], [0.1111111111111111, \"#46039f\"], [0.2222222222222222, \"#7201a8\"], [0.3333333333333333, \"#9c179e\"], [0.4444444444444444, \"#bd3786\"], [0.5555555555555556, \"#d8576b\"], [0.6666666666666666, \"#ed7953\"], [0.7777777777777778, \"#fb9f3a\"], [0.8888888888888888, \"#fdca26\"], [1.0, \"#f0f921\"]]}, \"colorway\": [\"#636efa\", \"#EF553B\", \"#00cc96\", \"#ab63fa\", \"#FFA15A\", \"#19d3f3\", \"#FF6692\", \"#B6E880\", \"#FF97FF\", \"#FECB52\"], \"font\": {\"color\": \"#2a3f5f\"}, \"geo\": {\"bgcolor\": \"white\", \"lakecolor\": \"white\", \"landcolor\": \"#E5ECF6\", \"showlakes\": true, \"showland\": true, \"subunitcolor\": \"white\"}, \"hoverlabel\": {\"align\": \"left\"}, \"hovermode\": \"closest\", \"mapbox\": {\"style\": \"light\"}, \"paper_bgcolor\": \"white\", \"plot_bgcolor\": \"#E5ECF6\", \"polar\": {\"angularaxis\": {\"gridcolor\": \"white\", \"linecolor\": \"white\", \"ticks\": \"\"}, \"bgcolor\": \"#E5ECF6\", \"radialaxis\": {\"gridcolor\": \"white\", \"linecolor\": \"white\", \"ticks\": \"\"}}, \"scene\": {\"xaxis\": {\"backgroundcolor\": \"#E5ECF6\", \"gridcolor\": \"white\", \"gridwidth\": 2, \"linecolor\": \"white\", \"showbackground\": true, \"ticks\": \"\", \"zerolinecolor\": \"white\"}, \"yaxis\": {\"backgroundcolor\": \"#E5ECF6\", \"gridcolor\": \"white\", \"gridwidth\": 2, \"linecolor\": \"white\", \"showbackground\": true, \"ticks\": \"\", \"zerolinecolor\": \"white\"}, \"zaxis\": {\"backgroundcolor\": \"#E5ECF6\", \"gridcolor\": \"white\", \"gridwidth\": 2, \"linecolor\": \"white\", \"showbackground\": true, \"ticks\": \"\", \"zerolinecolor\": \"white\"}}, \"shapedefaults\": {\"line\": {\"color\": \"#2a3f5f\"}}, \"ternary\": {\"aaxis\": {\"gridcolor\": \"white\", \"linecolor\": \"white\", \"ticks\": \"\"}, \"baxis\": {\"gridcolor\": \"white\", \"linecolor\": \"white\", \"ticks\": \"\"}, \"bgcolor\": \"#E5ECF6\", \"caxis\": {\"gridcolor\": \"white\", \"linecolor\": \"white\", \"ticks\": \"\"}}, \"title\": {\"x\": 0.05}, \"xaxis\": {\"automargin\": true, \"gridcolor\": \"white\", \"linecolor\": \"white\", \"ticks\": \"\", \"title\": {\"standoff\": 15}, \"zerolinecolor\": \"white\", \"zerolinewidth\": 2}, \"yaxis\": {\"automargin\": true, \"gridcolor\": \"white\", \"linecolor\": \"white\", \"ticks\": \"\", \"title\": {\"standoff\": 15}, \"zerolinecolor\": \"white\", \"zerolinewidth\": 2}}}, \"yaxis\": {\"range\": [0, 100]}},                        {\"responsive\": true}                    ).then(function(){\n                            \nvar gd = document.getElementById('cd116702-214b-4eb7-81a0-660a9bd98dc9');\nvar x = new MutationObserver(function (mutations, observer) {{\n        var display = window.getComputedStyle(gd).display;\n        if (!display || display === 'none') {{\n            console.log([gd, 'removed!']);\n            Plotly.purge(gd);\n            observer.disconnect();\n        }}\n}});\n\n// Listen for the removal of the full notebook cells\nvar notebookContainer = gd.closest('#notebook-container');\nif (notebookContainer) {{\n    x.observe(notebookContainer, {childList: true});\n}}\n\n// Listen for the clearing of the current output cell\nvar outputEl = gd.closest('.output');\nif (outputEl) {{\n    x.observe(outputEl, {childList: true});\n}}\n\n                        })                };                });            </script>        </div>"
     },
     "metadata": {}
    }
   ],
   "source": [
    "\n",
    "x=['Winter', 'Spring', 'Summer', 'Fall']\n",
    "\n",
    "fig = go.Figure()\n",
    "fig.add_trace(go.Scatter(\n",
    "    x=x, y=[40, 60, 40, 10],\n",
    "    hoverinfo='x+y',\n",
    "    mode='lines',\n",
    "    line=dict(width=0.5, color='rgb(131, 90, 241)'),\n",
    "    stackgroup='one' # define stack group\n",
    "))\n",
    "fig.add_trace(go.Scatter(\n",
    "    x=x, y=[20, 10, 10, 60],\n",
    "    hoverinfo='x+y',\n",
    "    mode='lines',\n",
    "    line=dict(width=0.5, color='rgb(111, 231, 219)'),\n",
    "    stackgroup='one'\n",
    "))\n",
    "fig.add_trace(go.Scatter(\n",
    "    x=x, y=[40, 30, 50, 30],\n",
    "    hoverinfo='x+y',\n",
    "    mode='lines',\n",
    "    line=dict(width=0.5, color='rgb(184, 247, 212)'),\n",
    "    stackgroup='one'\n",
    "))\n",
    "\n",
    "fig.update_layout(yaxis_range=(0, 100))\n",
    "fig.show()"
   ]
  },
  {
   "cell_type": "code",
   "execution_count": 75,
   "metadata": {},
   "outputs": [
    {
     "output_type": "display_data",
     "data": {
      "application/vnd.plotly.v1+json": {
       "config": {
        "plotlyServerURL": "https://plot.ly"
       },
       "data": [
        {
         "hoverinfo": "x+y",
         "line": {
          "color": "rgb(0.9677975592919913, 0.44127456009157356, 0.5358103155058701)",
          "width": 0.7
         },
         "mode": "lines",
         "name": "Toronto",
         "stackgroup": "one",
         "type": "scatter",
         "x": [
          "1st co-op",
          "2nd co-op",
          "3rd co-op",
          "4th co-op",
          "5th co-op",
          "6th co-op"
         ],
         "y": [
          13,
          19,
          18,
          13,
          12,
          16
         ]
        },
        {
         "hoverinfo": "x+y",
         "line": {
          "color": "rgb(0.9704241569984234, 0.4603475375001678, 0.3099359864545268)",
          "width": 0.7
         },
         "mode": "lines",
         "name": "GTA (Outside of Toronto)",
         "stackgroup": "one",
         "type": "scatter",
         "x": [
          "1st co-op",
          "2nd co-op",
          "3rd co-op",
          "4th co-op",
          "5th co-op",
          "6th co-op"
         ],
         "y": [
          13,
          9,
          4,
          4,
          1,
          3
         ]
        },
        {
         "hoverinfo": "x+y",
         "line": {
          "color": "rgb(0.8616090647292522, 0.536495730113334, 0.19548899031476086)",
          "width": 0.7
         },
         "mode": "lines",
         "name": "Ottawa",
         "stackgroup": "one",
         "type": "scatter",
         "x": [
          "1st co-op",
          "2nd co-op",
          "3rd co-op",
          "4th co-op",
          "5th co-op",
          "6th co-op"
         ],
         "y": [
          0,
          2,
          1,
          1,
          0,
          0
         ]
        },
        {
         "hoverinfo": "x+y",
         "line": {
          "color": "rgb(0.7632105624545802, 0.5838460616396939, 0.19465686802007026)",
          "width": 0.7
         },
         "mode": "lines",
         "name": "Windsor",
         "stackgroup": "one",
         "type": "scatter",
         "x": [
          "1st co-op",
          "2nd co-op",
          "3rd co-op",
          "4th co-op",
          "5th co-op",
          "6th co-op"
         ],
         "y": [
          1,
          0,
          0,
          0,
          0,
          0
         ]
        },
        {
         "hoverinfo": "x+y",
         "line": {
          "color": "rgb(0.6804189127793346, 0.6151497514677574, 0.19405452111445337)",
          "width": 0.7
         },
         "mode": "lines",
         "name": "Vancouver",
         "stackgroup": "one",
         "type": "scatter",
         "x": [
          "1st co-op",
          "2nd co-op",
          "3rd co-op",
          "4th co-op",
          "5th co-op",
          "6th co-op"
         ],
         "y": [
          0,
          0,
          0,
          0,
          0,
          0
         ]
        },
        {
         "hoverinfo": "x+y",
         "line": {
          "color": "rgb(0.5920891529639701, 0.6418467016378244, 0.1935069134991043)",
          "width": 0.7
         },
         "mode": "lines",
         "name": "KW",
         "stackgroup": "one",
         "type": "scatter",
         "x": [
          "1st co-op",
          "2nd co-op",
          "3rd co-op",
          "4th co-op",
          "5th co-op",
          "6th co-op"
         ],
         "y": [
          10,
          11,
          10,
          12,
          7,
          12
         ]
        },
        {
         "hoverinfo": "x+y",
         "line": {
          "color": "rgb(0.46810256823426105, 0.6699492535792404, 0.1928958739904499)",
          "width": 0.7
         },
         "mode": "lines",
         "name": "Other Ontario",
         "stackgroup": "one",
         "type": "scatter",
         "x": [
          "1st co-op",
          "2nd co-op",
          "3rd co-op",
          "4th co-op",
          "5th co-op",
          "6th co-op"
         ],
         "y": [
          2,
          2,
          2,
          0,
          0,
          1
         ]
        },
        {
         "hoverinfo": "x+y",
         "line": {
          "color": "rgb(0.19316929744982803, 0.7018418078239693, 0.24321388407365968)",
          "width": 0.7
         },
         "mode": "lines",
         "name": "Montreal",
         "stackgroup": "one",
         "type": "scatter",
         "x": [
          "1st co-op",
          "2nd co-op",
          "3rd co-op",
          "4th co-op",
          "5th co-op",
          "6th co-op"
         ],
         "y": [
          0,
          0,
          0,
          0,
          1,
          0
         ]
        },
        {
         "hoverinfo": "x+y",
         "line": {
          "color": "rgb(0.20125317221201128, 0.6907920815379025, 0.47966761189275336)",
          "width": 0.7
         },
         "mode": "lines",
         "name": "New York City",
         "stackgroup": "one",
         "type": "scatter",
         "x": [
          "1st co-op",
          "2nd co-op",
          "3rd co-op",
          "4th co-op",
          "5th co-op",
          "6th co-op"
         ],
         "y": [
          0,
          0,
          0,
          1,
          7,
          1
         ]
        },
        {
         "hoverinfo": "x+y",
         "line": {
          "color": "rgb(0.20631516405196249, 0.6834948167725491, 0.5761817437653648)",
          "width": 0.7
         },
         "mode": "lines",
         "name": "SF / Bay Area",
         "stackgroup": "one",
         "type": "scatter",
         "x": [
          "1st co-op",
          "2nd co-op",
          "3rd co-op",
          "4th co-op",
          "5th co-op",
          "6th co-op"
         ],
         "y": [
          0,
          0,
          4,
          3,
          10,
          5
         ]
        },
        {
         "hoverinfo": "x+y",
         "line": {
          "color": "rgb(0.21044753832183283, 0.6773105080456748, 0.6433941168468681)",
          "width": 0.7
         },
         "mode": "lines",
         "name": "Seattle",
         "stackgroup": "one",
         "type": "scatter",
         "x": [
          "1st co-op",
          "2nd co-op",
          "3rd co-op",
          "4th co-op",
          "5th co-op",
          "6th co-op"
         ],
         "y": [
          1,
          0,
          0,
          3,
          1,
          2
         ]
        },
        {
         "hoverinfo": "x+y",
         "line": {
          "color": "rgb(0.21461147568939787, 0.6708637556281021, 0.7042594890626992)",
          "width": 0.7
         },
         "mode": "lines",
         "name": "Boston",
         "stackgroup": "one",
         "type": "scatter",
         "x": [
          "1st co-op",
          "2nd co-op",
          "3rd co-op",
          "4th co-op",
          "5th co-op",
          "6th co-op"
         ],
         "y": [
          0,
          0,
          2,
          1,
          1,
          0
         ]
        },
        {
         "hoverinfo": "x+y",
         "line": {
          "color": "rgb(0.2197995660828324, 0.6625157876850336, 0.7732093159317209)",
          "width": 0.7
         },
         "mode": "lines",
         "name": "Los Angeles",
         "stackgroup": "one",
         "type": "scatter",
         "x": [
          "1st co-op",
          "2nd co-op",
          "3rd co-op",
          "4th co-op",
          "5th co-op",
          "6th co-op"
         ],
         "y": [
          0,
          0,
          0,
          1,
          0,
          0
         ]
        },
        {
         "hoverinfo": "x+y",
         "line": {
          "color": "rgb(0.22829030785596155, 0.6480515334381642, 0.8744997507366618)",
          "width": 0.7
         },
         "mode": "lines",
         "name": "Other USA",
         "stackgroup": "one",
         "type": "scatter",
         "x": [
          "1st co-op",
          "2nd co-op",
          "3rd co-op",
          "4th co-op",
          "5th co-op",
          "6th co-op"
         ],
         "y": [
          0,
          0,
          1,
          0,
          1,
          0
         ]
        },
        {
         "hoverinfo": "x+y",
         "line": {
          "color": "rgb(0.433280341176423, 0.6065273407962815, 0.9585467098271748)",
          "width": 0.7
         },
         "mode": "lines",
         "name": "Other Canada",
         "stackgroup": "one",
         "type": "scatter",
         "x": [
          "1st co-op",
          "2nd co-op",
          "3rd co-op",
          "4th co-op",
          "5th co-op",
          "6th co-op"
         ],
         "y": [
          0,
          0,
          0,
          0,
          0,
          0
         ]
        },
        {
         "hoverinfo": "x+y",
         "line": {
          "color": "rgb(0.6423044349219739, 0.5497680051256467, 0.9582651433656727)",
          "width": 0.7
         },
         "mode": "lines",
         "name": "UK",
         "stackgroup": "one",
         "type": "scatter",
         "x": [
          "1st co-op",
          "2nd co-op",
          "3rd co-op",
          "4th co-op",
          "5th co-op",
          "6th co-op"
         ],
         "y": [
          0,
          0,
          1,
          1,
          1,
          0
         ]
        },
        {
         "hoverinfo": "x+y",
         "line": {
          "color": "rgb(0.8004936186423958, 0.47703363533737203, 0.9579547196007522)",
          "width": 0.7
         },
         "mode": "lines",
         "name": "Germany",
         "stackgroup": "one",
         "type": "scatter",
         "x": [
          "1st co-op",
          "2nd co-op",
          "3rd co-op",
          "4th co-op",
          "5th co-op",
          "6th co-op"
         ],
         "y": [
          0,
          0,
          0,
          1,
          0,
          0
         ]
        },
        {
         "hoverinfo": "x+y",
         "line": {
          "color": "rgb(0.9579148533500138, 0.358831186992106, 0.9474115985773391)",
          "width": 0.7
         },
         "mode": "lines",
         "name": "Anywhere (E-Coop)",
         "stackgroup": "one",
         "type": "scatter",
         "x": [
          "1st co-op",
          "2nd co-op",
          "3rd co-op",
          "4th co-op",
          "5th co-op",
          "6th co-op"
         ],
         "y": [
          1,
          0,
          0,
          0,
          0,
          0
         ]
        },
        {
         "hoverinfo": "x+y",
         "line": {
          "color": "rgb(0.962272393509669, 0.3976451968965351, 0.8008274363432775)",
          "width": 0.7
         },
         "mode": "lines",
         "name": "Remote",
         "stackgroup": "one",
         "type": "scatter",
         "x": [
          "1st co-op",
          "2nd co-op",
          "3rd co-op",
          "4th co-op",
          "5th co-op",
          "6th co-op"
         ],
         "y": [
          0,
          0,
          0,
          1,
          0,
          1
         ]
        }
       ],
       "layout": {
        "height": 1000,
        "template": {
         "data": {
          "bar": [
           {
            "error_x": {
             "color": "#2a3f5f"
            },
            "error_y": {
             "color": "#2a3f5f"
            },
            "marker": {
             "line": {
              "color": "#E5ECF6",
              "width": 0.5
             }
            },
            "type": "bar"
           }
          ],
          "barpolar": [
           {
            "marker": {
             "line": {
              "color": "#E5ECF6",
              "width": 0.5
             }
            },
            "type": "barpolar"
           }
          ],
          "carpet": [
           {
            "aaxis": {
             "endlinecolor": "#2a3f5f",
             "gridcolor": "white",
             "linecolor": "white",
             "minorgridcolor": "white",
             "startlinecolor": "#2a3f5f"
            },
            "baxis": {
             "endlinecolor": "#2a3f5f",
             "gridcolor": "white",
             "linecolor": "white",
             "minorgridcolor": "white",
             "startlinecolor": "#2a3f5f"
            },
            "type": "carpet"
           }
          ],
          "choropleth": [
           {
            "colorbar": {
             "outlinewidth": 0,
             "ticks": ""
            },
            "type": "choropleth"
           }
          ],
          "contour": [
           {
            "colorbar": {
             "outlinewidth": 0,
             "ticks": ""
            },
            "colorscale": [
             [
              0,
              "#0d0887"
             ],
             [
              0.1111111111111111,
              "#46039f"
             ],
             [
              0.2222222222222222,
              "#7201a8"
             ],
             [
              0.3333333333333333,
              "#9c179e"
             ],
             [
              0.4444444444444444,
              "#bd3786"
             ],
             [
              0.5555555555555556,
              "#d8576b"
             ],
             [
              0.6666666666666666,
              "#ed7953"
             ],
             [
              0.7777777777777778,
              "#fb9f3a"
             ],
             [
              0.8888888888888888,
              "#fdca26"
             ],
             [
              1,
              "#f0f921"
             ]
            ],
            "type": "contour"
           }
          ],
          "contourcarpet": [
           {
            "colorbar": {
             "outlinewidth": 0,
             "ticks": ""
            },
            "type": "contourcarpet"
           }
          ],
          "heatmap": [
           {
            "colorbar": {
             "outlinewidth": 0,
             "ticks": ""
            },
            "colorscale": [
             [
              0,
              "#0d0887"
             ],
             [
              0.1111111111111111,
              "#46039f"
             ],
             [
              0.2222222222222222,
              "#7201a8"
             ],
             [
              0.3333333333333333,
              "#9c179e"
             ],
             [
              0.4444444444444444,
              "#bd3786"
             ],
             [
              0.5555555555555556,
              "#d8576b"
             ],
             [
              0.6666666666666666,
              "#ed7953"
             ],
             [
              0.7777777777777778,
              "#fb9f3a"
             ],
             [
              0.8888888888888888,
              "#fdca26"
             ],
             [
              1,
              "#f0f921"
             ]
            ],
            "type": "heatmap"
           }
          ],
          "heatmapgl": [
           {
            "colorbar": {
             "outlinewidth": 0,
             "ticks": ""
            },
            "colorscale": [
             [
              0,
              "#0d0887"
             ],
             [
              0.1111111111111111,
              "#46039f"
             ],
             [
              0.2222222222222222,
              "#7201a8"
             ],
             [
              0.3333333333333333,
              "#9c179e"
             ],
             [
              0.4444444444444444,
              "#bd3786"
             ],
             [
              0.5555555555555556,
              "#d8576b"
             ],
             [
              0.6666666666666666,
              "#ed7953"
             ],
             [
              0.7777777777777778,
              "#fb9f3a"
             ],
             [
              0.8888888888888888,
              "#fdca26"
             ],
             [
              1,
              "#f0f921"
             ]
            ],
            "type": "heatmapgl"
           }
          ],
          "histogram": [
           {
            "marker": {
             "colorbar": {
              "outlinewidth": 0,
              "ticks": ""
             }
            },
            "type": "histogram"
           }
          ],
          "histogram2d": [
           {
            "colorbar": {
             "outlinewidth": 0,
             "ticks": ""
            },
            "colorscale": [
             [
              0,
              "#0d0887"
             ],
             [
              0.1111111111111111,
              "#46039f"
             ],
             [
              0.2222222222222222,
              "#7201a8"
             ],
             [
              0.3333333333333333,
              "#9c179e"
             ],
             [
              0.4444444444444444,
              "#bd3786"
             ],
             [
              0.5555555555555556,
              "#d8576b"
             ],
             [
              0.6666666666666666,
              "#ed7953"
             ],
             [
              0.7777777777777778,
              "#fb9f3a"
             ],
             [
              0.8888888888888888,
              "#fdca26"
             ],
             [
              1,
              "#f0f921"
             ]
            ],
            "type": "histogram2d"
           }
          ],
          "histogram2dcontour": [
           {
            "colorbar": {
             "outlinewidth": 0,
             "ticks": ""
            },
            "colorscale": [
             [
              0,
              "#0d0887"
             ],
             [
              0.1111111111111111,
              "#46039f"
             ],
             [
              0.2222222222222222,
              "#7201a8"
             ],
             [
              0.3333333333333333,
              "#9c179e"
             ],
             [
              0.4444444444444444,
              "#bd3786"
             ],
             [
              0.5555555555555556,
              "#d8576b"
             ],
             [
              0.6666666666666666,
              "#ed7953"
             ],
             [
              0.7777777777777778,
              "#fb9f3a"
             ],
             [
              0.8888888888888888,
              "#fdca26"
             ],
             [
              1,
              "#f0f921"
             ]
            ],
            "type": "histogram2dcontour"
           }
          ],
          "mesh3d": [
           {
            "colorbar": {
             "outlinewidth": 0,
             "ticks": ""
            },
            "type": "mesh3d"
           }
          ],
          "parcoords": [
           {
            "line": {
             "colorbar": {
              "outlinewidth": 0,
              "ticks": ""
             }
            },
            "type": "parcoords"
           }
          ],
          "pie": [
           {
            "automargin": true,
            "type": "pie"
           }
          ],
          "scatter": [
           {
            "marker": {
             "colorbar": {
              "outlinewidth": 0,
              "ticks": ""
             }
            },
            "type": "scatter"
           }
          ],
          "scatter3d": [
           {
            "line": {
             "colorbar": {
              "outlinewidth": 0,
              "ticks": ""
             }
            },
            "marker": {
             "colorbar": {
              "outlinewidth": 0,
              "ticks": ""
             }
            },
            "type": "scatter3d"
           }
          ],
          "scattercarpet": [
           {
            "marker": {
             "colorbar": {
              "outlinewidth": 0,
              "ticks": ""
             }
            },
            "type": "scattercarpet"
           }
          ],
          "scattergeo": [
           {
            "marker": {
             "colorbar": {
              "outlinewidth": 0,
              "ticks": ""
             }
            },
            "type": "scattergeo"
           }
          ],
          "scattergl": [
           {
            "marker": {
             "colorbar": {
              "outlinewidth": 0,
              "ticks": ""
             }
            },
            "type": "scattergl"
           }
          ],
          "scattermapbox": [
           {
            "marker": {
             "colorbar": {
              "outlinewidth": 0,
              "ticks": ""
             }
            },
            "type": "scattermapbox"
           }
          ],
          "scatterpolar": [
           {
            "marker": {
             "colorbar": {
              "outlinewidth": 0,
              "ticks": ""
             }
            },
            "type": "scatterpolar"
           }
          ],
          "scatterpolargl": [
           {
            "marker": {
             "colorbar": {
              "outlinewidth": 0,
              "ticks": ""
             }
            },
            "type": "scatterpolargl"
           }
          ],
          "scatterternary": [
           {
            "marker": {
             "colorbar": {
              "outlinewidth": 0,
              "ticks": ""
             }
            },
            "type": "scatterternary"
           }
          ],
          "surface": [
           {
            "colorbar": {
             "outlinewidth": 0,
             "ticks": ""
            },
            "colorscale": [
             [
              0,
              "#0d0887"
             ],
             [
              0.1111111111111111,
              "#46039f"
             ],
             [
              0.2222222222222222,
              "#7201a8"
             ],
             [
              0.3333333333333333,
              "#9c179e"
             ],
             [
              0.4444444444444444,
              "#bd3786"
             ],
             [
              0.5555555555555556,
              "#d8576b"
             ],
             [
              0.6666666666666666,
              "#ed7953"
             ],
             [
              0.7777777777777778,
              "#fb9f3a"
             ],
             [
              0.8888888888888888,
              "#fdca26"
             ],
             [
              1,
              "#f0f921"
             ]
            ],
            "type": "surface"
           }
          ],
          "table": [
           {
            "cells": {
             "fill": {
              "color": "#EBF0F8"
             },
             "line": {
              "color": "white"
             }
            },
            "header": {
             "fill": {
              "color": "#C8D4E3"
             },
             "line": {
              "color": "white"
             }
            },
            "type": "table"
           }
          ]
         },
         "layout": {
          "annotationdefaults": {
           "arrowcolor": "#2a3f5f",
           "arrowhead": 0,
           "arrowwidth": 1
          },
          "autotypenumbers": "strict",
          "coloraxis": {
           "colorbar": {
            "outlinewidth": 0,
            "ticks": ""
           }
          },
          "colorscale": {
           "diverging": [
            [
             0,
             "#8e0152"
            ],
            [
             0.1,
             "#c51b7d"
            ],
            [
             0.2,
             "#de77ae"
            ],
            [
             0.3,
             "#f1b6da"
            ],
            [
             0.4,
             "#fde0ef"
            ],
            [
             0.5,
             "#f7f7f7"
            ],
            [
             0.6,
             "#e6f5d0"
            ],
            [
             0.7,
             "#b8e186"
            ],
            [
             0.8,
             "#7fbc41"
            ],
            [
             0.9,
             "#4d9221"
            ],
            [
             1,
             "#276419"
            ]
           ],
           "sequential": [
            [
             0,
             "#0d0887"
            ],
            [
             0.1111111111111111,
             "#46039f"
            ],
            [
             0.2222222222222222,
             "#7201a8"
            ],
            [
             0.3333333333333333,
             "#9c179e"
            ],
            [
             0.4444444444444444,
             "#bd3786"
            ],
            [
             0.5555555555555556,
             "#d8576b"
            ],
            [
             0.6666666666666666,
             "#ed7953"
            ],
            [
             0.7777777777777778,
             "#fb9f3a"
            ],
            [
             0.8888888888888888,
             "#fdca26"
            ],
            [
             1,
             "#f0f921"
            ]
           ],
           "sequentialminus": [
            [
             0,
             "#0d0887"
            ],
            [
             0.1111111111111111,
             "#46039f"
            ],
            [
             0.2222222222222222,
             "#7201a8"
            ],
            [
             0.3333333333333333,
             "#9c179e"
            ],
            [
             0.4444444444444444,
             "#bd3786"
            ],
            [
             0.5555555555555556,
             "#d8576b"
            ],
            [
             0.6666666666666666,
             "#ed7953"
            ],
            [
             0.7777777777777778,
             "#fb9f3a"
            ],
            [
             0.8888888888888888,
             "#fdca26"
            ],
            [
             1,
             "#f0f921"
            ]
           ]
          },
          "colorway": [
           "#636efa",
           "#EF553B",
           "#00cc96",
           "#ab63fa",
           "#FFA15A",
           "#19d3f3",
           "#FF6692",
           "#B6E880",
           "#FF97FF",
           "#FECB52"
          ],
          "font": {
           "color": "#2a3f5f"
          },
          "geo": {
           "bgcolor": "white",
           "lakecolor": "white",
           "landcolor": "#E5ECF6",
           "showlakes": true,
           "showland": true,
           "subunitcolor": "white"
          },
          "hoverlabel": {
           "align": "left"
          },
          "hovermode": "closest",
          "mapbox": {
           "style": "light"
          },
          "paper_bgcolor": "white",
          "plot_bgcolor": "#E5ECF6",
          "polar": {
           "angularaxis": {
            "gridcolor": "white",
            "linecolor": "white",
            "ticks": ""
           },
           "bgcolor": "#E5ECF6",
           "radialaxis": {
            "gridcolor": "white",
            "linecolor": "white",
            "ticks": ""
           }
          },
          "scene": {
           "xaxis": {
            "backgroundcolor": "#E5ECF6",
            "gridcolor": "white",
            "gridwidth": 2,
            "linecolor": "white",
            "showbackground": true,
            "ticks": "",
            "zerolinecolor": "white"
           },
           "yaxis": {
            "backgroundcolor": "#E5ECF6",
            "gridcolor": "white",
            "gridwidth": 2,
            "linecolor": "white",
            "showbackground": true,
            "ticks": "",
            "zerolinecolor": "white"
           },
           "zaxis": {
            "backgroundcolor": "#E5ECF6",
            "gridcolor": "white",
            "gridwidth": 2,
            "linecolor": "white",
            "showbackground": true,
            "ticks": "",
            "zerolinecolor": "white"
           }
          },
          "shapedefaults": {
           "line": {
            "color": "#2a3f5f"
           }
          },
          "ternary": {
           "aaxis": {
            "gridcolor": "white",
            "linecolor": "white",
            "ticks": ""
           },
           "baxis": {
            "gridcolor": "white",
            "linecolor": "white",
            "ticks": ""
           },
           "bgcolor": "#E5ECF6",
           "caxis": {
            "gridcolor": "white",
            "linecolor": "white",
            "ticks": ""
           }
          },
          "title": {
           "x": 0.05
          },
          "xaxis": {
           "automargin": true,
           "gridcolor": "white",
           "linecolor": "white",
           "ticks": "",
           "title": {
            "standoff": 15
           },
           "zerolinecolor": "white",
           "zerolinewidth": 2
          },
          "yaxis": {
           "automargin": true,
           "gridcolor": "white",
           "linecolor": "white",
           "ticks": "",
           "title": {
            "standoff": 15
           },
           "zerolinecolor": "white",
           "zerolinewidth": 2
          }
         }
        },
        "width": 1500,
        "yaxis": {
         "range": [
          0,
          45
         ]
        }
       }
      },
      "text/html": "<div>                            <div id=\"26a4134e-5b0e-4f92-85b8-d933c57127ee\" class=\"plotly-graph-div\" style=\"height:1000px; width:1500px;\"></div>            <script type=\"text/javascript\">                require([\"plotly\"], function(Plotly) {                    window.PLOTLYENV=window.PLOTLYENV || {};                                    if (document.getElementById(\"26a4134e-5b0e-4f92-85b8-d933c57127ee\")) {                    Plotly.newPlot(                        \"26a4134e-5b0e-4f92-85b8-d933c57127ee\",                        [{\"hoverinfo\": \"x+y\", \"line\": {\"color\": \"rgb(0.9677975592919913, 0.44127456009157356, 0.5358103155058701)\", \"width\": 0.7}, \"mode\": \"lines\", \"name\": \"Toronto\", \"stackgroup\": \"one\", \"type\": \"scatter\", \"x\": [\"1st co-op\", \"2nd co-op\", \"3rd co-op\", \"4th co-op\", \"5th co-op\", \"6th co-op\"], \"y\": [13, 19, 18, 13, 12, 16]}, {\"hoverinfo\": \"x+y\", \"line\": {\"color\": \"rgb(0.9704241569984234, 0.4603475375001678, 0.3099359864545268)\", \"width\": 0.7}, \"mode\": \"lines\", \"name\": \"GTA (Outside of Toronto)\", \"stackgroup\": \"one\", \"type\": \"scatter\", \"x\": [\"1st co-op\", \"2nd co-op\", \"3rd co-op\", \"4th co-op\", \"5th co-op\", \"6th co-op\"], \"y\": [13, 9, 4, 4, 1, 3]}, {\"hoverinfo\": \"x+y\", \"line\": {\"color\": \"rgb(0.8616090647292522, 0.536495730113334, 0.19548899031476086)\", \"width\": 0.7}, \"mode\": \"lines\", \"name\": \"Ottawa\", \"stackgroup\": \"one\", \"type\": \"scatter\", \"x\": [\"1st co-op\", \"2nd co-op\", \"3rd co-op\", \"4th co-op\", \"5th co-op\", \"6th co-op\"], \"y\": [0, 2, 1, 1, 0, 0]}, {\"hoverinfo\": \"x+y\", \"line\": {\"color\": \"rgb(0.7632105624545802, 0.5838460616396939, 0.19465686802007026)\", \"width\": 0.7}, \"mode\": \"lines\", \"name\": \"Windsor\", \"stackgroup\": \"one\", \"type\": \"scatter\", \"x\": [\"1st co-op\", \"2nd co-op\", \"3rd co-op\", \"4th co-op\", \"5th co-op\", \"6th co-op\"], \"y\": [1, 0, 0, 0, 0, 0]}, {\"hoverinfo\": \"x+y\", \"line\": {\"color\": \"rgb(0.6804189127793346, 0.6151497514677574, 0.19405452111445337)\", \"width\": 0.7}, \"mode\": \"lines\", \"name\": \"Vancouver\", \"stackgroup\": \"one\", \"type\": \"scatter\", \"x\": [\"1st co-op\", \"2nd co-op\", \"3rd co-op\", \"4th co-op\", \"5th co-op\", \"6th co-op\"], \"y\": [0, 0, 0, 0, 0, 0]}, {\"hoverinfo\": \"x+y\", \"line\": {\"color\": \"rgb(0.5920891529639701, 0.6418467016378244, 0.1935069134991043)\", \"width\": 0.7}, \"mode\": \"lines\", \"name\": \"KW\", \"stackgroup\": \"one\", \"type\": \"scatter\", \"x\": [\"1st co-op\", \"2nd co-op\", \"3rd co-op\", \"4th co-op\", \"5th co-op\", \"6th co-op\"], \"y\": [10, 11, 10, 12, 7, 12]}, {\"hoverinfo\": \"x+y\", \"line\": {\"color\": \"rgb(0.46810256823426105, 0.6699492535792404, 0.1928958739904499)\", \"width\": 0.7}, \"mode\": \"lines\", \"name\": \"Other Ontario\", \"stackgroup\": \"one\", \"type\": \"scatter\", \"x\": [\"1st co-op\", \"2nd co-op\", \"3rd co-op\", \"4th co-op\", \"5th co-op\", \"6th co-op\"], \"y\": [2, 2, 2, 0, 0, 1]}, {\"hoverinfo\": \"x+y\", \"line\": {\"color\": \"rgb(0.19316929744982803, 0.7018418078239693, 0.24321388407365968)\", \"width\": 0.7}, \"mode\": \"lines\", \"name\": \"Montreal\", \"stackgroup\": \"one\", \"type\": \"scatter\", \"x\": [\"1st co-op\", \"2nd co-op\", \"3rd co-op\", \"4th co-op\", \"5th co-op\", \"6th co-op\"], \"y\": [0, 0, 0, 0, 1, 0]}, {\"hoverinfo\": \"x+y\", \"line\": {\"color\": \"rgb(0.20125317221201128, 0.6907920815379025, 0.47966761189275336)\", \"width\": 0.7}, \"mode\": \"lines\", \"name\": \"New York City\", \"stackgroup\": \"one\", \"type\": \"scatter\", \"x\": [\"1st co-op\", \"2nd co-op\", \"3rd co-op\", \"4th co-op\", \"5th co-op\", \"6th co-op\"], \"y\": [0, 0, 0, 1, 7, 1]}, {\"hoverinfo\": \"x+y\", \"line\": {\"color\": \"rgb(0.20631516405196249, 0.6834948167725491, 0.5761817437653648)\", \"width\": 0.7}, \"mode\": \"lines\", \"name\": \"SF / Bay Area\", \"stackgroup\": \"one\", \"type\": \"scatter\", \"x\": [\"1st co-op\", \"2nd co-op\", \"3rd co-op\", \"4th co-op\", \"5th co-op\", \"6th co-op\"], \"y\": [0, 0, 4, 3, 10, 5]}, {\"hoverinfo\": \"x+y\", \"line\": {\"color\": \"rgb(0.21044753832183283, 0.6773105080456748, 0.6433941168468681)\", \"width\": 0.7}, \"mode\": \"lines\", \"name\": \"Seattle\", \"stackgroup\": \"one\", \"type\": \"scatter\", \"x\": [\"1st co-op\", \"2nd co-op\", \"3rd co-op\", \"4th co-op\", \"5th co-op\", \"6th co-op\"], \"y\": [1, 0, 0, 3, 1, 2]}, {\"hoverinfo\": \"x+y\", \"line\": {\"color\": \"rgb(0.21461147568939787, 0.6708637556281021, 0.7042594890626992)\", \"width\": 0.7}, \"mode\": \"lines\", \"name\": \"Boston\", \"stackgroup\": \"one\", \"type\": \"scatter\", \"x\": [\"1st co-op\", \"2nd co-op\", \"3rd co-op\", \"4th co-op\", \"5th co-op\", \"6th co-op\"], \"y\": [0, 0, 2, 1, 1, 0]}, {\"hoverinfo\": \"x+y\", \"line\": {\"color\": \"rgb(0.2197995660828324, 0.6625157876850336, 0.7732093159317209)\", \"width\": 0.7}, \"mode\": \"lines\", \"name\": \"Los Angeles\", \"stackgroup\": \"one\", \"type\": \"scatter\", \"x\": [\"1st co-op\", \"2nd co-op\", \"3rd co-op\", \"4th co-op\", \"5th co-op\", \"6th co-op\"], \"y\": [0, 0, 0, 1, 0, 0]}, {\"hoverinfo\": \"x+y\", \"line\": {\"color\": \"rgb(0.22829030785596155, 0.6480515334381642, 0.8744997507366618)\", \"width\": 0.7}, \"mode\": \"lines\", \"name\": \"Other USA\", \"stackgroup\": \"one\", \"type\": \"scatter\", \"x\": [\"1st co-op\", \"2nd co-op\", \"3rd co-op\", \"4th co-op\", \"5th co-op\", \"6th co-op\"], \"y\": [0, 0, 1, 0, 1, 0]}, {\"hoverinfo\": \"x+y\", \"line\": {\"color\": \"rgb(0.433280341176423, 0.6065273407962815, 0.9585467098271748)\", \"width\": 0.7}, \"mode\": \"lines\", \"name\": \"Other Canada\", \"stackgroup\": \"one\", \"type\": \"scatter\", \"x\": [\"1st co-op\", \"2nd co-op\", \"3rd co-op\", \"4th co-op\", \"5th co-op\", \"6th co-op\"], \"y\": [0, 0, 0, 0, 0, 0]}, {\"hoverinfo\": \"x+y\", \"line\": {\"color\": \"rgb(0.6423044349219739, 0.5497680051256467, 0.9582651433656727)\", \"width\": 0.7}, \"mode\": \"lines\", \"name\": \"UK\", \"stackgroup\": \"one\", \"type\": \"scatter\", \"x\": [\"1st co-op\", \"2nd co-op\", \"3rd co-op\", \"4th co-op\", \"5th co-op\", \"6th co-op\"], \"y\": [0, 0, 1, 1, 1, 0]}, {\"hoverinfo\": \"x+y\", \"line\": {\"color\": \"rgb(0.8004936186423958, 0.47703363533737203, 0.9579547196007522)\", \"width\": 0.7}, \"mode\": \"lines\", \"name\": \"Germany\", \"stackgroup\": \"one\", \"type\": \"scatter\", \"x\": [\"1st co-op\", \"2nd co-op\", \"3rd co-op\", \"4th co-op\", \"5th co-op\", \"6th co-op\"], \"y\": [0, 0, 0, 1, 0, 0]}, {\"hoverinfo\": \"x+y\", \"line\": {\"color\": \"rgb(0.9579148533500138, 0.358831186992106, 0.9474115985773391)\", \"width\": 0.7}, \"mode\": \"lines\", \"name\": \"Anywhere (E-Coop)\", \"stackgroup\": \"one\", \"type\": \"scatter\", \"x\": [\"1st co-op\", \"2nd co-op\", \"3rd co-op\", \"4th co-op\", \"5th co-op\", \"6th co-op\"], \"y\": [1, 0, 0, 0, 0, 0]}, {\"hoverinfo\": \"x+y\", \"line\": {\"color\": \"rgb(0.962272393509669, 0.3976451968965351, 0.8008274363432775)\", \"width\": 0.7}, \"mode\": \"lines\", \"name\": \"Remote\", \"stackgroup\": \"one\", \"type\": \"scatter\", \"x\": [\"1st co-op\", \"2nd co-op\", \"3rd co-op\", \"4th co-op\", \"5th co-op\", \"6th co-op\"], \"y\": [0, 0, 0, 1, 0, 1]}],                        {\"height\": 1000, \"template\": {\"data\": {\"bar\": [{\"error_x\": {\"color\": \"#2a3f5f\"}, \"error_y\": {\"color\": \"#2a3f5f\"}, \"marker\": {\"line\": {\"color\": \"#E5ECF6\", \"width\": 0.5}}, \"type\": \"bar\"}], \"barpolar\": [{\"marker\": {\"line\": {\"color\": \"#E5ECF6\", \"width\": 0.5}}, \"type\": \"barpolar\"}], \"carpet\": [{\"aaxis\": {\"endlinecolor\": \"#2a3f5f\", \"gridcolor\": \"white\", \"linecolor\": \"white\", \"minorgridcolor\": \"white\", \"startlinecolor\": \"#2a3f5f\"}, \"baxis\": {\"endlinecolor\": \"#2a3f5f\", \"gridcolor\": \"white\", \"linecolor\": \"white\", \"minorgridcolor\": \"white\", \"startlinecolor\": \"#2a3f5f\"}, \"type\": \"carpet\"}], \"choropleth\": [{\"colorbar\": {\"outlinewidth\": 0, \"ticks\": \"\"}, \"type\": \"choropleth\"}], \"contour\": [{\"colorbar\": {\"outlinewidth\": 0, \"ticks\": \"\"}, \"colorscale\": [[0.0, \"#0d0887\"], [0.1111111111111111, \"#46039f\"], [0.2222222222222222, \"#7201a8\"], [0.3333333333333333, \"#9c179e\"], [0.4444444444444444, \"#bd3786\"], [0.5555555555555556, \"#d8576b\"], [0.6666666666666666, \"#ed7953\"], [0.7777777777777778, \"#fb9f3a\"], [0.8888888888888888, \"#fdca26\"], [1.0, \"#f0f921\"]], \"type\": \"contour\"}], \"contourcarpet\": [{\"colorbar\": {\"outlinewidth\": 0, \"ticks\": \"\"}, \"type\": \"contourcarpet\"}], \"heatmap\": [{\"colorbar\": {\"outlinewidth\": 0, \"ticks\": \"\"}, \"colorscale\": [[0.0, \"#0d0887\"], [0.1111111111111111, \"#46039f\"], [0.2222222222222222, \"#7201a8\"], [0.3333333333333333, \"#9c179e\"], [0.4444444444444444, \"#bd3786\"], [0.5555555555555556, \"#d8576b\"], [0.6666666666666666, \"#ed7953\"], [0.7777777777777778, \"#fb9f3a\"], [0.8888888888888888, \"#fdca26\"], [1.0, \"#f0f921\"]], \"type\": \"heatmap\"}], \"heatmapgl\": [{\"colorbar\": {\"outlinewidth\": 0, \"ticks\": \"\"}, \"colorscale\": [[0.0, \"#0d0887\"], [0.1111111111111111, \"#46039f\"], [0.2222222222222222, \"#7201a8\"], [0.3333333333333333, \"#9c179e\"], [0.4444444444444444, \"#bd3786\"], [0.5555555555555556, \"#d8576b\"], [0.6666666666666666, \"#ed7953\"], [0.7777777777777778, \"#fb9f3a\"], [0.8888888888888888, \"#fdca26\"], [1.0, \"#f0f921\"]], \"type\": \"heatmapgl\"}], \"histogram\": [{\"marker\": {\"colorbar\": {\"outlinewidth\": 0, \"ticks\": \"\"}}, \"type\": \"histogram\"}], \"histogram2d\": [{\"colorbar\": {\"outlinewidth\": 0, \"ticks\": \"\"}, \"colorscale\": [[0.0, \"#0d0887\"], [0.1111111111111111, \"#46039f\"], [0.2222222222222222, \"#7201a8\"], [0.3333333333333333, \"#9c179e\"], [0.4444444444444444, \"#bd3786\"], [0.5555555555555556, \"#d8576b\"], [0.6666666666666666, \"#ed7953\"], [0.7777777777777778, \"#fb9f3a\"], [0.8888888888888888, \"#fdca26\"], [1.0, \"#f0f921\"]], \"type\": \"histogram2d\"}], \"histogram2dcontour\": [{\"colorbar\": {\"outlinewidth\": 0, \"ticks\": \"\"}, \"colorscale\": [[0.0, \"#0d0887\"], [0.1111111111111111, \"#46039f\"], [0.2222222222222222, \"#7201a8\"], [0.3333333333333333, \"#9c179e\"], [0.4444444444444444, \"#bd3786\"], [0.5555555555555556, \"#d8576b\"], [0.6666666666666666, \"#ed7953\"], [0.7777777777777778, \"#fb9f3a\"], [0.8888888888888888, \"#fdca26\"], [1.0, \"#f0f921\"]], \"type\": \"histogram2dcontour\"}], \"mesh3d\": [{\"colorbar\": {\"outlinewidth\": 0, \"ticks\": \"\"}, \"type\": \"mesh3d\"}], \"parcoords\": [{\"line\": {\"colorbar\": {\"outlinewidth\": 0, \"ticks\": \"\"}}, \"type\": \"parcoords\"}], \"pie\": [{\"automargin\": true, \"type\": \"pie\"}], \"scatter\": [{\"marker\": {\"colorbar\": {\"outlinewidth\": 0, \"ticks\": \"\"}}, \"type\": \"scatter\"}], \"scatter3d\": [{\"line\": {\"colorbar\": {\"outlinewidth\": 0, \"ticks\": \"\"}}, \"marker\": {\"colorbar\": {\"outlinewidth\": 0, \"ticks\": \"\"}}, \"type\": \"scatter3d\"}], \"scattercarpet\": [{\"marker\": {\"colorbar\": {\"outlinewidth\": 0, \"ticks\": \"\"}}, \"type\": \"scattercarpet\"}], \"scattergeo\": [{\"marker\": {\"colorbar\": {\"outlinewidth\": 0, \"ticks\": \"\"}}, \"type\": \"scattergeo\"}], \"scattergl\": [{\"marker\": {\"colorbar\": {\"outlinewidth\": 0, \"ticks\": \"\"}}, \"type\": \"scattergl\"}], \"scattermapbox\": [{\"marker\": {\"colorbar\": {\"outlinewidth\": 0, \"ticks\": \"\"}}, \"type\": \"scattermapbox\"}], \"scatterpolar\": [{\"marker\": {\"colorbar\": {\"outlinewidth\": 0, \"ticks\": \"\"}}, \"type\": \"scatterpolar\"}], \"scatterpolargl\": [{\"marker\": {\"colorbar\": {\"outlinewidth\": 0, \"ticks\": \"\"}}, \"type\": \"scatterpolargl\"}], \"scatterternary\": [{\"marker\": {\"colorbar\": {\"outlinewidth\": 0, \"ticks\": \"\"}}, \"type\": \"scatterternary\"}], \"surface\": [{\"colorbar\": {\"outlinewidth\": 0, \"ticks\": \"\"}, \"colorscale\": [[0.0, \"#0d0887\"], [0.1111111111111111, \"#46039f\"], [0.2222222222222222, \"#7201a8\"], [0.3333333333333333, \"#9c179e\"], [0.4444444444444444, \"#bd3786\"], [0.5555555555555556, \"#d8576b\"], [0.6666666666666666, \"#ed7953\"], [0.7777777777777778, \"#fb9f3a\"], [0.8888888888888888, \"#fdca26\"], [1.0, \"#f0f921\"]], \"type\": \"surface\"}], \"table\": [{\"cells\": {\"fill\": {\"color\": \"#EBF0F8\"}, \"line\": {\"color\": \"white\"}}, \"header\": {\"fill\": {\"color\": \"#C8D4E3\"}, \"line\": {\"color\": \"white\"}}, \"type\": \"table\"}]}, \"layout\": {\"annotationdefaults\": {\"arrowcolor\": \"#2a3f5f\", \"arrowhead\": 0, \"arrowwidth\": 1}, \"autotypenumbers\": \"strict\", \"coloraxis\": {\"colorbar\": {\"outlinewidth\": 0, \"ticks\": \"\"}}, \"colorscale\": {\"diverging\": [[0, \"#8e0152\"], [0.1, \"#c51b7d\"], [0.2, \"#de77ae\"], [0.3, \"#f1b6da\"], [0.4, \"#fde0ef\"], [0.5, \"#f7f7f7\"], [0.6, \"#e6f5d0\"], [0.7, \"#b8e186\"], [0.8, \"#7fbc41\"], [0.9, \"#4d9221\"], [1, \"#276419\"]], \"sequential\": [[0.0, \"#0d0887\"], [0.1111111111111111, \"#46039f\"], [0.2222222222222222, \"#7201a8\"], [0.3333333333333333, \"#9c179e\"], [0.4444444444444444, \"#bd3786\"], [0.5555555555555556, \"#d8576b\"], [0.6666666666666666, \"#ed7953\"], [0.7777777777777778, \"#fb9f3a\"], [0.8888888888888888, \"#fdca26\"], [1.0, \"#f0f921\"]], \"sequentialminus\": [[0.0, \"#0d0887\"], [0.1111111111111111, \"#46039f\"], [0.2222222222222222, \"#7201a8\"], [0.3333333333333333, \"#9c179e\"], [0.4444444444444444, \"#bd3786\"], [0.5555555555555556, \"#d8576b\"], [0.6666666666666666, \"#ed7953\"], [0.7777777777777778, \"#fb9f3a\"], [0.8888888888888888, \"#fdca26\"], [1.0, \"#f0f921\"]]}, \"colorway\": [\"#636efa\", \"#EF553B\", \"#00cc96\", \"#ab63fa\", \"#FFA15A\", \"#19d3f3\", \"#FF6692\", \"#B6E880\", \"#FF97FF\", \"#FECB52\"], \"font\": {\"color\": \"#2a3f5f\"}, \"geo\": {\"bgcolor\": \"white\", \"lakecolor\": \"white\", \"landcolor\": \"#E5ECF6\", \"showlakes\": true, \"showland\": true, \"subunitcolor\": \"white\"}, \"hoverlabel\": {\"align\": \"left\"}, \"hovermode\": \"closest\", \"mapbox\": {\"style\": \"light\"}, \"paper_bgcolor\": \"white\", \"plot_bgcolor\": \"#E5ECF6\", \"polar\": {\"angularaxis\": {\"gridcolor\": \"white\", \"linecolor\": \"white\", \"ticks\": \"\"}, \"bgcolor\": \"#E5ECF6\", \"radialaxis\": {\"gridcolor\": \"white\", \"linecolor\": \"white\", \"ticks\": \"\"}}, \"scene\": {\"xaxis\": {\"backgroundcolor\": \"#E5ECF6\", \"gridcolor\": \"white\", \"gridwidth\": 2, \"linecolor\": \"white\", \"showbackground\": true, \"ticks\": \"\", \"zerolinecolor\": \"white\"}, \"yaxis\": {\"backgroundcolor\": \"#E5ECF6\", \"gridcolor\": \"white\", \"gridwidth\": 2, \"linecolor\": \"white\", \"showbackground\": true, \"ticks\": \"\", \"zerolinecolor\": \"white\"}, \"zaxis\": {\"backgroundcolor\": \"#E5ECF6\", \"gridcolor\": \"white\", \"gridwidth\": 2, \"linecolor\": \"white\", \"showbackground\": true, \"ticks\": \"\", \"zerolinecolor\": \"white\"}}, \"shapedefaults\": {\"line\": {\"color\": \"#2a3f5f\"}}, \"ternary\": {\"aaxis\": {\"gridcolor\": \"white\", \"linecolor\": \"white\", \"ticks\": \"\"}, \"baxis\": {\"gridcolor\": \"white\", \"linecolor\": \"white\", \"ticks\": \"\"}, \"bgcolor\": \"#E5ECF6\", \"caxis\": {\"gridcolor\": \"white\", \"linecolor\": \"white\", \"ticks\": \"\"}}, \"title\": {\"x\": 0.05}, \"xaxis\": {\"automargin\": true, \"gridcolor\": \"white\", \"linecolor\": \"white\", \"ticks\": \"\", \"title\": {\"standoff\": 15}, \"zerolinecolor\": \"white\", \"zerolinewidth\": 2}, \"yaxis\": {\"automargin\": true, \"gridcolor\": \"white\", \"linecolor\": \"white\", \"ticks\": \"\", \"title\": {\"standoff\": 15}, \"zerolinecolor\": \"white\", \"zerolinewidth\": 2}}}, \"width\": 1500, \"yaxis\": {\"range\": [0, 45]}},                        {\"responsive\": true}                    ).then(function(){\n                            \nvar gd = document.getElementById('26a4134e-5b0e-4f92-85b8-d933c57127ee');\nvar x = new MutationObserver(function (mutations, observer) {{\n        var display = window.getComputedStyle(gd).display;\n        if (!display || display === 'none') {{\n            console.log([gd, 'removed!']);\n            Plotly.purge(gd);\n            observer.disconnect();\n        }}\n}});\n\n// Listen for the removal of the full notebook cells\nvar notebookContainer = gd.closest('#notebook-container');\nif (notebookContainer) {{\n    x.observe(notebookContainer, {childList: true});\n}}\n\n// Listen for the clearing of the current output cell\nvar outputEl = gd.closest('.output');\nif (outputEl) {{\n    x.observe(outputEl, {childList: true});\n}}\n\n                        })                };                });            </script>        </div>"
     },
     "metadata": {}
    }
   ],
   "source": [
    "\n",
    "\n",
    "# create list of column names to iterate through\n",
    "columns = [\"Where did you work for your 1st coop ?\", \"Where did you work for your 2nd coop ?\", \"Where did you work for your 3rd coop ?\", \"Where did you work for your 4th coop ?\", \"Where did you work for your 5th coop ?\", \"Where did you work for your 6th coop ? (Even if it was remote, you can just put in the location of where you would have worked if COVID never happened)\"]\n",
    "cities = [\"Toronto\", \"GTA (Outside of Toronto)\", \"Ottawa\", \"Windsor\", \"Vancouver\", \"KW\", \"Other Ontario\", \"Montreal\", \"New York City\", \"SF / Bay Area\", \"Seattle\", \"Boston\", \"Los Angeles\", \"Other USA\", \"Other Canada\",\"UK\",\"Germany\",\"Anywhere (E-Coop)\",\"Remote\"]\n",
    "# \"#\"+''.join([random.choice('0123456789ABCDEF') for j in range(6)])\n",
    "\n",
    "colors_1 = sns.color_palette(\"husl\", 20)\n",
    "#colors_1 = sns.color_palette(\"Paired\", 20)\n",
    "\n",
    "\n",
    "\n",
    "dist = collections.defaultdict(list)\n",
    "\n",
    "for city in cities:\n",
    "    dist[city] = [0,0,0,0,0,0]\n",
    "\n",
    "for i in range(len(columns)):\n",
    "    column = columns[i]\n",
    "    values = dataframe[column][9:].value_counts()\n",
    "    for city, freq in values.items():\n",
    "        dist[city][i] = freq\n",
    "\n",
    "x = [\"1st co-op\", \"2nd co-op\", \"3rd co-op\", \"4th co-op\", \"5th co-op\", \"6th co-op\"]\n",
    "fig = go.Figure()\n",
    "\n",
    "i = 0\n",
    "for city, freq in dist.items():\n",
    "    fig.add_trace(go.Scatter(\n",
    "        x=x, y=freq,\n",
    "        hoverinfo='x+y',\n",
    "        mode='lines',\n",
    "        line=dict(width=0.7, color='rgb' + str(colors_1[i])),\n",
    "        stackgroup='one',\n",
    "        name=city\n",
    "    ))\n",
    "    i+=1\n",
    "\n",
    "fig.update_layout(yaxis_range=(0, 45))\n",
    "fig.update_layout(width=1500, height=1000)\n",
    "fig.show()\n"
   ]
  },
  {
   "cell_type": "code",
   "execution_count": 143,
   "metadata": {},
   "outputs": [
    {
     "output_type": "stream",
     "name": "stdout",
     "text": [
      "defaultdict(<class 'int'>, {'Process Improvement Analyst': 1, 'Software Tester': 2, 'Machine Learning Engineer': 3, 'Production Control Specialist': 1, 'Business Analyst': 11, 'Product Coordinator': 1, 'Technical Project Lead': 1, 'Continuous Improvement Analyst': 2, 'Delivery Coordinator': 1, 'Product Manager': 25, 'Program Manager': 4, 'Devops Engineer': 1, 'Site Reliability Engineer': 1, 'Cybersecurity Consultant': 1, 'Software Developer': 19, 'Business Systems Analyst': 1, 'Agile Coach': 1, 'Data Analyst': 8, 'IT Operations Analyst': 1, 'Data Analytics Consultant': 1, 'Quantitative Researcher': 1, 'Technical Program Manager': 2, 'Technical Account Manager': 1, 'Project Engineering Intern': 1, 'Project Analyst': 1, 'Project Manager': 8, 'Strategic Sourcing Analyst': 1, 'Business Intelligence Intern': 1, 'IoT Engineer': 1, 'Data Analytics Intern': 1, 'Data Scientist': 3, 'Data Scientist ': 1, 'Project Coordinator': 2, 'Sales Representative': 1, 'Change Management Intern': 1, 'Business Consultant': 1, 'Demand Generation Specialist': 1, 'E Co-op (Founder)': 1, 'Systems Technician': 1, 'Full Stack Developer': 1, 'Sofware Developer': 1, 'AI Programmer': 1, 'Electrical Engineering Intern': 1, 'Process Improvement Project Analyst': 1, 'Product Planning Assistant': 1, 'Sale Engineer': 1, 'IT Analyst': 2, 'Business System Analyst': 1, 'Applications Developer': 1, 'Training Specialist': 1, 'Senior Teaching Assistant': 1, 'Manufacturing Engineering Assistant': 1, 'HR Data Analyst': 1, 'Merchandising Strategy': 1, 'Marketing Intelligence': 1, 'Quality Assurance Analyst': 3, 'Engineering Specialist': 1, 'Product Developer ': 1, 'Process Engineering Co-op': 1, 'Content Improvement Analyst': 1, 'Replenishment Optimization Analyst': 1, 'Technology Consulting Intern': 1, 'Industrial Engineering Intern': 2, 'Quality Assurance Developer': 1, 'Business Strategist': 1, 'Technical Project Manager': 1, 'Technology Consultant': 2, 'Product Data Analyst': 1, 'WEEF TA': 1, 'Product Developer': 2, 'Product Integration Engineer': 1, 'Process Engineering Student': 1, 'Technical Project Coordinator': 1, 'Functional Analyst': 1, 'Automation Engineer': 1, 'Supply Chain Coordinator': 1, 'Sales Operations Analyst': 1, 'Financial Data Analyst': 1, 'Embedded Software Developer': 1, 'Information Systems Specialist': 1, 'Supply Chain Managment': 1, 'Product Delivery coordinator': 1, 'Data Engineer': 4, 'Manufacturing Engineering Intern': 1, 'Production Engineering Intern': 1, 'Data Analysis/Process Automation co-op': 1, 'Systems Engineer': 2, 'Software Engineer': 1, 'Operations Lead': 1, 'Asset Manager': 1, 'Sales Engineer': 1, 'Customer Service Operations Assistant': 1, 'Learning and Development Coordinator': 1, 'Cloud Security Developer': 1, 'Solutions Engineer': 1})\n"
     ]
    },
    {
     "output_type": "display_data",
     "data": {
      "text/plain": "<Figure size 72x72 with 1 Axes>",
      "image/svg+xml": "<?xml version=\"1.0\" encoding=\"utf-8\" standalone=\"no\"?>\n<!DOCTYPE svg PUBLIC \"-//W3C//DTD SVG 1.1//EN\"\n  \"http://www.w3.org/Graphics/SVG/1.1/DTD/svg11.dtd\">\n<!-- Created with matplotlib (https://matplotlib.org/) -->\n<svg height=\"51.6pt\" version=\"1.1\" viewBox=\"0 0 70.2 51.6\" width=\"70.2pt\" xmlns=\"http://www.w3.org/2000/svg\" xmlns:xlink=\"http://www.w3.org/1999/xlink\">\n <defs>\n  <style type=\"text/css\">\n*{stroke-linecap:butt;stroke-linejoin:round;}\n  </style>\n </defs>\n <g id=\"figure_1\">\n  <g id=\"patch_1\">\n   <path d=\"M 0 51.6 \nL 70.2 51.6 \nL 70.2 0 \nL 0 0 \nz\n\" style=\"fill:none;\"/>\n  </g>\n  <g id=\"axes_1\">\n   <g clip-path=\"url(#pd0d89959c3)\">\n    <image height=\"38\" id=\"image3fbf802250\" transform=\"scale(1 -1)translate(0 -38)\" width=\"56\" x=\"7.2\" xlink:href=\"data:image/png;base64,\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\" y=\"-6.4\"/>\n   </g>\n  </g>\n </g>\n <defs>\n  <clipPath id=\"pd0d89959c3\">\n   <rect height=\"37.2\" width=\"55.8\" x=\"7.2\" y=\"7.2\"/>\n  </clipPath>\n </defs>\n</svg>\n",
      "image/png": "[encoded data removed]"
     },
     "metadata": {
      "needs_background": "light"
     }
    }
   ],
   "source": [
    "data = pd.read_csv(\"job titles.csv\")\n",
    "column = data[\"Job Titles\"]\n",
    "dist = collections.defaultdict(int)\n",
    "\n",
    "colors = sns.color_palette(\"husl\", 96)\n",
    "sentence = \"\"\n",
    "\n",
    "for i, line in column.iteritems():\n",
    "    # split line into tokens (comma separated)\n",
    "    ll = line.split(\", \")\n",
    "    for token in ll:\n",
    "        dist[token] += 1\n",
    "print(dist)\n",
    "\n",
    "\n",
    "\n",
    "from wordcloud import WordCloud\n",
    "# Generate word cloud\n",
    "wordcloud = WordCloud(background_color='white', width = 3000, height = 2000)\n",
    "wordcloud.generate_from_frequencies(frequencies=dist)\n",
    "plt.figure(figsize=(30,30))\n",
    "plt.imshow(wordcloud, interpolation=\"bilinear\")\n",
    "plt.axis(\"off\")\n",
    "plt.show()\n"
   ]
  }
 ]
}